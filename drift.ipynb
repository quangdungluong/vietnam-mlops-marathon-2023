{
 "cells": [
  {
   "cell_type": "code",
   "execution_count": null,
   "metadata": {},
   "outputs": [],
   "source": [
    "import orjson\n",
    "import pandas as pd\n",
    "import glob\n",
    "import os\n",
    "import numpy as np\n",
    "import json\n",
    "from data_processor import DataProcessor\n",
    "from prob1 import config as cfg1\n",
    "from prob2 import config as cfg2"
   ]
  },
  {
   "cell_type": "markdown",
   "metadata": {},
   "source": [
    "# Determine drift data"
   ]
  },
  {
   "cell_type": "code",
   "execution_count": null,
   "metadata": {},
   "outputs": [],
   "source": [
    "def get_unique_not_nan_values_list_from_series(current_data: pd.Series, reference_data: pd.Series) -> list:\n",
    "    \"\"\"Get unique values from current and reference series, drop NaNs\"\"\"\n",
    "    return list(set(reference_data.dropna().unique()) | set(current_data.dropna().unique()))\n",
    "\n",
    "def get_binned_data(\n",
    "    reference_data: pd.Series, current_data: pd.Series, feature_type: str, n: int, feel_zeroes: bool = True\n",
    "):\n",
    "    \"\"\"Split variable into n buckets based on reference quantiles\n",
    "    Args:\n",
    "        reference_data: reference data\n",
    "        current_data: current data\n",
    "        feature_type: feature type\n",
    "        n: number of quantiles\n",
    "    Returns:\n",
    "        reference_percents: % of records in each bucket for reference\n",
    "        current_percents: % of records in each bucket for current\n",
    "    \"\"\"\n",
    "    n_vals = reference_data.nunique()\n",
    "\n",
    "    if feature_type == \"num\" and n_vals > 20:\n",
    "        bins = np.histogram_bin_edges(pd.concat([reference_data, current_data], axis=0).values, bins=\"sturges\")\n",
    "        reference_percents = np.histogram(reference_data, bins)[0] / len(reference_data)\n",
    "        current_percents = np.histogram(current_data, bins)[0] / len(current_data)\n",
    "\n",
    "    else:\n",
    "        keys = get_unique_not_nan_values_list_from_series(current_data=current_data, reference_data=reference_data)\n",
    "        ref_feature_dict = {**dict.fromkeys(keys, 0), **dict(reference_data.value_counts())}\n",
    "        current_feature_dict = {**dict.fromkeys(keys, 0), **dict(current_data.value_counts())}\n",
    "        reference_percents = np.array([ref_feature_dict[key] / len(reference_data) for key in keys])\n",
    "        current_percents = np.array([current_feature_dict[key] / len(current_data) for key in keys])\n",
    "\n",
    "    if feel_zeroes:\n",
    "        np.place(\n",
    "            reference_percents,\n",
    "            reference_percents == 0,\n",
    "            min(reference_percents[reference_percents != 0]) / 10**6\n",
    "            if min(reference_percents[reference_percents != 0]) <= 0.0001\n",
    "            else 0.0001,\n",
    "        )\n",
    "        np.place(\n",
    "            current_percents,\n",
    "            current_percents == 0,\n",
    "            min(current_percents[current_percents != 0]) / 10**6\n",
    "            if min(current_percents[current_percents != 0]) <= 0.0001\n",
    "            else 0.0001,\n",
    "        )\n",
    "\n",
    "    return reference_percents, current_percents\n",
    "\n",
    "def _psi(\n",
    "    reference_data: pd.Series, current_data: pd.Series, feature_type: str, threshold: float, n_bins: int = 30\n",
    "):\n",
    "    \"\"\"Calculate the PSI\n",
    "    Args:\n",
    "        reference_data: reference data\n",
    "        current_data: current data\n",
    "        feature_type: feature type\n",
    "        threshold: all values above this threshold means data drift\n",
    "        n_bins: number of bins\n",
    "    Returns:\n",
    "        psi_value: calculated PSI\n",
    "        test_result: whether the drift is detected\n",
    "    \"\"\"\n",
    "    reference_percents, current_percents = get_binned_data(reference_data, current_data, feature_type, n_bins)\n",
    "\n",
    "    psi_values = (reference_percents - current_percents) * np.log(reference_percents / current_percents)\n",
    "    psi_value = np.sum(psi_values)\n",
    "\n",
    "    return psi_value, psi_value >= threshold"
   ]
  },
  {
   "cell_type": "code",
   "execution_count": null,
   "metadata": {},
   "outputs": [],
   "source": [
    "from pydantic import BaseModel\n",
    "class Data(BaseModel):\n",
    "    id: str\n",
    "    rows: list\n",
    "    columns: list\n",
    "\n",
    "def process_json_data(json_path):\n",
    "    json_data = orjson.loads(open(json_path, \"rb\").read())\n",
    "    data = Data(**json_data)\n",
    "    df = pd.DataFrame(data.rows, columns=data.columns)\n",
    "    df = DataProcessor.apply_process_data(df, cfg, DataProcessor.load_category_encoder(cfg.category_index_path))\n",
    "    return df"
   ]
  },
  {
   "cell_type": "markdown",
   "metadata": {},
   "source": [
    "# Problem 1"
   ]
  },
  {
   "cell_type": "code",
   "execution_count": null,
   "metadata": {},
   "outputs": [],
   "source": [
    "ref_df = pd.read_parquet(cfg1.original_data_path)\n",
    "ref_df = DataProcessor.apply_process_data(ref_df, cfg1, DataProcessor.load_category_encoder(cfg1.category_index_path))\n",
    "ref_df.head()"
   ]
  },
  {
   "cell_type": "code",
   "execution_count": null,
   "metadata": {
    "vscode": {
     "languageId": "plaintext"
    }
   },
   "outputs": [],
   "source": [
    "numeric_features = cfg1.feature_config[\"numeric_columns\"]\n",
    "category_features = cfg1.feature_config[\"category_columns\"]"
   ]
  },
  {
   "cell_type": "code",
   "execution_count": null,
   "metadata": {},
   "outputs": [],
   "source": [
    "for feature in numeric_features:\n",
    "    a = []\n",
    "    psi_dict = {}\n",
    "    for json_path in sorted(glob.glob(\"./save_request_data/prob1/*.json\")):\n",
    "        test_df = process_json_data(json_path)\n",
    "        psi_value, is_drift = _psi(ref_df[feature], test_df[feature], \"num\", 0.0)\n",
    "        # if is_drift:\n",
    "        #     print(json_path, psi_value)\n",
    "        a.append(psi_value)\n",
    "        psi_dict[os.path.basename(json_path).split('.')[0]] = psi_value\n",
    "    print(feature, sorted(list(set(a)), reverse=True))\n",
    "    sorted_by_psi = sorted(psi_dict.items(), key=lambda x:x[1], reverse=True)\n",
    "    print(list(dict(sorted_by_psi).keys())[:10])"
   ]
  },
  {
   "cell_type": "code",
   "execution_count": null,
   "metadata": {},
   "outputs": [],
   "source": [
    "cnt = 0\n",
    "for feature in numeric_features:\n",
    "    if feature != \"feature19\": continue\n",
    "    a = []\n",
    "    for json_path in sorted(glob.glob(\"./save_request_data/prob1/*.json\")):\n",
    "        test_df = process_json_data(json_path)\n",
    "        psi_value, is_drift = _psi(ref_df[feature], test_df[feature], \"num\", 0.02)\n",
    "        if is_drift:\n",
    "            cnt += 1\n",
    "            print(json_path, psi_value)\n",
    "        a.append(psi_value)\n",
    "    print(cnt)\n",
    "    print(feature, sorted(list(set(a)), reverse=True))\n"
   ]
  },
  {
   "cell_type": "markdown",
   "metadata": {},
   "source": [
    "# Problem 2"
   ]
  },
  {
   "cell_type": "code",
   "execution_count": null,
   "metadata": {},
   "outputs": [],
   "source": [
    "ref_df = pd.read_parquet(cfg2.original_data_path)\n",
    "ref_df = DataProcessor.apply_process_data(ref_df, cfg2, DataProcessor.load_category_encoder(cfg2.category_index_path))\n",
    "ref_df.head()"
   ]
  },
  {
   "cell_type": "code",
   "execution_count": null,
   "metadata": {},
   "outputs": [],
   "source": [
    "numeric_features = cfg2.feature_config[\"numeric_columns\"]\n",
    "category_features = cfg2.feature_config[\"category_columns\"]"
   ]
  },
  {
   "cell_type": "code",
   "execution_count": null,
   "metadata": {},
   "outputs": [],
   "source": [
    "for feature in numeric_features:\n",
    "    a = []\n",
    "    psi_dict = {}\n",
    "    for json_path in sorted(glob.glob(\"./save_request_data/prob2/*.json\")):\n",
    "        test_df = process_json_data(json_path)\n",
    "        psi_value, is_drift = _psi(ref_df[feature], test_df[feature], \"num\", 0.0)\n",
    "        # if is_drift:\n",
    "        #     print(json_path, psi_value)\n",
    "        a.append(psi_value)\n",
    "        psi_dict[os.path.basename(json_path).split('.')[0]] = psi_value\n",
    "    print(feature, sorted(list(set(a)), reverse=True))\n",
    "    sorted_by_psi = sorted(psi_dict.items(), key=lambda x:x[1], reverse=True)\n",
    "    print(list(dict(sorted_by_psi).keys())[:10])"
   ]
  },
  {
   "cell_type": "code",
   "execution_count": null,
   "metadata": {},
   "outputs": [],
   "source": [
    "cnt = 0\n",
    "for feature in numeric_features:\n",
    "    if feature != \"feature20\": continue\n",
    "    a = []\n",
    "    for json_path in sorted(glob.glob(\"./save_request_data/prob2/*.json\")):\n",
    "        test_df = process_json_data(json_path)\n",
    "        psi_value, is_drift = _psi(ref_df[feature], test_df[feature], \"num\", 0.026)\n",
    "        if is_drift:\n",
    "            print(json_path, psi_value)\n",
    "            cnt += 1\n",
    "        a.append(psi_value)\n",
    "    print(cnt)\n",
    "    print(feature, sorted(list(set(a)), reverse=True))"
   ]
  },
  {
   "cell_type": "code",
   "execution_count": null,
   "metadata": {},
   "outputs": [],
   "source": []
  }
 ],
 "metadata": {
  "kernelspec": {
   "display_name": "mlops",
   "language": "python",
   "name": "python3"
  },
  "language_info": {
   "codemirror_mode": {
    "name": "ipython",
    "version": 3
   },
   "file_extension": ".py",
   "mimetype": "text/x-python",
   "name": "python",
   "nbconvert_exporter": "python",
   "pygments_lexer": "ipython3",
   "version": "3.10.12"
  },
  "orig_nbformat": 4
 },
 "nbformat": 4,
 "nbformat_minor": 2
}
